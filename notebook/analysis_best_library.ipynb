{
 "cells": [
  {
   "cell_type": "code",
   "execution_count": 8,
   "id": "571ef5a4",
   "metadata": {},
   "outputs": [],
   "source": [
    "from best_library import LoadData, RemoveNAPreprocessor, FillNaNPreprocessor, BMIFeature, AgeGroupFeature, Model\n",
    "\n",
    "data = LoadData(\"sample_diabetes_mellitus_data.csv\")\n",
    "train_data, test_data = data.load_and_split()"
   ]
  },
  {
   "cell_type": "code",
   "execution_count": 9,
   "id": "9bf3e078",
   "metadata": {},
   "outputs": [
    {
     "name": "stderr",
     "output_type": "stream",
     "text": [
      "/Users/sebapaik/Documents/BSE/T1/Computing For Data Science/CFDS_HW5/.venv/lib/python3.13/site-packages/best_library/preprocessor/fill_Nan.py:13: FutureWarning: A value is trying to be set on a copy of a DataFrame or Series through chained assignment using an inplace method.\n",
      "The behavior will change in pandas 3.0. This inplace method will never work because the intermediate object on which we are setting values always behaves as a copy.\n",
      "\n",
      "For example, when doing 'df[col].method(value, inplace=True)', try using 'df.method({col: value}, inplace=True)' or df[col] = df[col].method(value) instead, to perform the operation inplace on the original object.\n",
      "\n",
      "\n",
      "  self.dataframe[column].fillna(mean_value, inplace=True)\n"
     ]
    }
   ],
   "source": [
    "train_data = RemoveNAPreprocessor(train_data).RemoveMissingVals()\n",
    "train_data = FillNaNPreprocessor(train_data).FillMissingVals()\n",
    "\n",
    "test_data = RemoveNAPreprocessor(test_data).RemoveMissingVals()\n",
    "test_data = FillNaNPreprocessor(test_data).FillMissingVals()"
   ]
  },
  {
   "cell_type": "code",
   "execution_count": 10,
   "id": "97027e75",
   "metadata": {},
   "outputs": [],
   "source": [
    "test_data = BMIFeature(test_data).transform()\n",
    "test_data = AgeGroupFeature(test_data).transform()\n",
    "\n",
    "train_data = BMIFeature(train_data).transform()\n",
    "train_data = AgeGroupFeature(train_data).transform()"
   ]
  },
  {
   "cell_type": "code",
   "execution_count": 17,
   "id": "76d7cc51",
   "metadata": {},
   "outputs": [
    {
     "data": {
      "text/plain": [
       "array([0.29921577, 0.2835431 , 0.14208607, ..., 0.25759042, 0.22921632,\n",
       "       0.2115951 ], shape=(1874,))"
      ]
     },
     "execution_count": 17,
     "metadata": {},
     "output_type": "execute_result"
    }
   ],
   "source": [
    "model = Model(['bmi', 'age'], 'diabetes_mellitus')\n",
    "model.train(train_data)\n",
    "model.predict(test_data)"
   ]
  }
 ],
 "metadata": {
  "kernelspec": {
   "display_name": "cfds-hw5",
   "language": "python",
   "name": "python3"
  },
  "language_info": {
   "codemirror_mode": {
    "name": "ipython",
    "version": 3
   },
   "file_extension": ".py",
   "mimetype": "text/x-python",
   "name": "python",
   "nbconvert_exporter": "python",
   "pygments_lexer": "ipython3",
   "version": "3.13.7"
  }
 },
 "nbformat": 4,
 "nbformat_minor": 5
}
